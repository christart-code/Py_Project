{
 "cells": [
  {
   "cell_type": "markdown",
   "id": "e3c33921",
   "metadata": {},
   "source": [
    "### Approche 1"
   ]
  },
  {
   "cell_type": "code",
   "execution_count": 1,
   "id": "07669042",
   "metadata": {},
   "outputs": [
    {
     "name": "stdout",
     "output_type": "stream",
     "text": [
      "Entrez le nombre de jours dans le mois : 30\n",
      "Entrez le numéro du jour où commence le mois (1 pour lundi, ... , 7 pour dimanche) : 2\n",
      "Lun Mar Mer Jeu Ven Sam Dim\n",
      "      1   2   3   4   5   6 \n",
      "  7   8   9  10  11  12  13 \n",
      " 14  15  16  17  18  19  20 \n",
      " 21  22  23  24  25  26  27 \n",
      " 28  29  30 \n"
     ]
    }
   ],
   "source": [
    "# Demande de l'entrée utilisateur\n",
    "nb_jours = int(input(\"Entrez le nombre de jours dans le mois : \"))\n",
    "jour_debut = int(input(\"Entrez le numéro du jour où commence le mois (1 pour lundi, ... , 7 pour dimanche) : \"))\n",
    "\n",
    "\n",
    "# En-tête des jours de la semaine\n",
    "jours_semaine = [\"Lun\", \"Mar\", \"Mer\", \"Jeu\", \"Ven\", \"Sam\", \"Dim\"]\n",
    "print(\" \".join(jours_semaine))\n",
    "\n",
    "# Calcul et affichage du calendrier\n",
    "print(\"    \" * (jour_debut - 1), end=\"\")  # Espacement pour le jour de début\n",
    "for jour in range(1, nb_jours + 1):\n",
    "    print(f\"{jour:3}\", end=\" \")  # Affiche le jour avec un espacement de 3 caractères\n",
    "    if (jour + jour_debut - 1) % 7 == 0:  # Retour à la ligne chaque dimanche\n",
    "        print()\n",
    "\n",
    "print()  # Nouvel"
   ]
  },
  {
   "cell_type": "markdown",
   "id": "7f4d6037",
   "metadata": {},
   "source": [
    "### Approche 2"
   ]
  },
  {
   "cell_type": "code",
   "execution_count": 2,
   "id": "4cf599fa",
   "metadata": {},
   "outputs": [
    {
     "name": "stdout",
     "output_type": "stream",
     "text": [
      "Entrez le nombre de jours dans le mois : 30\n",
      "Entrez le jour de début du mois (1 pour lundi, ..., 7 pour dimanche) : 2\n",
      "LUN MAR MER JEU VEN SAM DIM\n",
      "      1   2   3   4   5   6\n",
      "  7   8   9  10  11  12  13\n",
      " 14  15  16  17  18  19  20\n",
      " 21  22  23  24  25  26  27\n",
      " 28  29  30\n"
     ]
    }
   ],
   "source": [
    "def generer_calendrier(jours_dans_le_mois, jour_de_debut):\n",
    "    jours_de_la_semaine = [\"LUN\", \"MAR\", \"MER\", \"JEU\", \"VEN\", \"SAM\", \"DIM\"]\n",
    "    calendrier = []\n",
    "\n",
    "    # Créer la ligne d'en-tête avec les jours de la semaine\n",
    "    ligne_entete = \" \".join(jours_de_la_semaine)\n",
    "    calendrier.append(ligne_entete)\n",
    "\n",
    "    # Initialiser la première ligne avec des espaces vides jusqu'au jour de début\n",
    "    premiere_ligne = [\"   \"] * (jour_de_debut - 1)\n",
    "\n",
    "    # Remplir les dates\n",
    "    jour = 1\n",
    "    while jour <= jours_dans_le_mois:\n",
    "        if len(premiere_ligne) < 7:\n",
    "            premiere_ligne.append(f\"{jour:3}\")\n",
    "        else:\n",
    "            calendrier.append(\" \".join(premiere_ligne))\n",
    "            premiere_ligne = [f\"{jour:3}\"]\n",
    "        jour += 1\n",
    "\n",
    "    # Ajouter la dernière ligne si elle n'est pas vide\n",
    "    if premiere_ligne:\n",
    "        calendrier.append(\" \".join(premiere_ligne))\n",
    "\n",
    "    # Afficher le calendrier\n",
    "    for ligne in calendrier:\n",
    "        print(ligne)\n",
    "\n",
    "# Application\n",
    "jours_dans_le_mois = int(input(\"Entrez le nombre de jours dans le mois : \"))\n",
    "jour_de_debut = int(input(\"Entrez le jour de début du mois (1 pour lundi, ..., 7 pour dimanche) : \"))\n",
    "generer_calendrier(jours_dans_le_mois, jour_de_debut)"
   ]
  },
  {
   "cell_type": "code",
   "execution_count": null,
   "id": "cb6dae9e",
   "metadata": {},
   "outputs": [],
   "source": []
  }
 ],
 "metadata": {
  "kernelspec": {
   "display_name": "Python 3 (ipykernel)",
   "language": "python",
   "name": "python3"
  },
  "language_info": {
   "codemirror_mode": {
    "name": "ipython",
    "version": 3
   },
   "file_extension": ".py",
   "mimetype": "text/x-python",
   "name": "python",
   "nbconvert_exporter": "python",
   "pygments_lexer": "ipython3",
   "version": "3.11.5"
  }
 },
 "nbformat": 4,
 "nbformat_minor": 5
}
