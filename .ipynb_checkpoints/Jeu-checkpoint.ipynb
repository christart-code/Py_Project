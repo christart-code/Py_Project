{
 "cells": [
  {
   "cell_type": "code",
   "execution_count": 1,
   "id": "e7888727",
   "metadata": {},
   "outputs": [
    {
     "name": "stdout",
     "output_type": "stream",
     "text": [
      "Les 5 meilleurs scores:\n",
      "Quel est le chef-lieu du département Plateaux? Djambala\n",
      "Bonne réponse!\n",
      "Quel est le chef-lieu du département Niari? Dolisie\n",
      "Bonne réponse!\n",
      "Quel est le chef-lieu du département Pool? Kinkala\n",
      "Bonne réponse!\n",
      "Quel est le chef-lieu du département Pointe-Noire? Pointe-Noire\n",
      "Bonne réponse!\n",
      "Quel est le chef-lieu du département Likouala? Impfondo\n",
      "Bonne réponse!\n",
      "Quel est le chef-lieu du département Lékoumou? Sibiti\n",
      "Bonne réponse!\n",
      "Quel est le chef-lieu du département Kouilou? dddddd\n",
      "Mauvaise réponse. La bonne réponse est Loango.\n",
      "Quel est le chef-lieu du département Sangha? Sang\n",
      "Mauvaise réponse. La bonne réponse est Ouesso.\n",
      "Quel est le chef-lieu du département Cuvette? sqd\n",
      "Mauvaise réponse. La bonne réponse est Owando.\n",
      "Quel est le chef-lieu du département Brazzaville? qsd\n",
      "Mauvaise réponse. La bonne réponse est Brazzaville.\n",
      "Votre score: 6\n",
      "Voulez-vous jouer une autre partie? (oui/non) \n"
     ]
    }
   ],
   "source": [
    "import random\n",
    "\n",
    "# Liste des départements et leurs chefs-lieux\n",
    "departements = {\n",
    "    \"Bouenza\": \"Madingou\",\n",
    "    \"Brazzaville\": \"Brazzaville\",\n",
    "    \"Cuvette\": \"Owando\",\n",
    "    \"Cuvette-Ouest\": \"Ewo\",\n",
    "    \"Kouilou\": \"Loango\",\n",
    "    \"Lékoumou\": \"Sibiti\",\n",
    "    \"Likouala\": \"Impfondo\",\n",
    "    \"Niari\": \"Dolisie\",\n",
    "    \"Plateaux\": \"Djambala\",\n",
    "    \"Pointe-Noire\": \"Pointe-Noire\",\n",
    "    \"Pool\": \"Kinkala\",\n",
    "    \"Sangha\": \"Ouesso\"\n",
    "}\n",
    "\n",
    "# Fonction pour poser une question\n",
    "def poser_question(departement, chef_lieu):\n",
    "    reponse = input(f\"Quel est le chef-lieu du département {departement}? \")\n",
    "    if reponse.lower() == chef_lieu.lower():\n",
    "        print(\"Bonne réponse!\")\n",
    "        return True\n",
    "    else:\n",
    "        print(f\"Mauvaise réponse. La bonne réponse est {chef_lieu}.\")\n",
    "        return False\n",
    "\n",
    "# Fonction pour jouer une partie\n",
    "def jouer_partie():\n",
    "    score = 0\n",
    "    questions_posees = random.sample(list(departements.items()), 10)\n",
    "    for departement, chef_lieu in questions_posees:\n",
    "        if poser_question(departement, chef_lieu):\n",
    "            score += 1\n",
    "    return score\n",
    "\n",
    "# Fonction pour afficher les meilleurs scores\n",
    "def afficher_meilleurs_scores(scores):\n",
    "    print(\"Les 5 meilleurs scores:\")\n",
    "    for i, score in enumerate(sorted(scores, reverse=True)[:5]):\n",
    "        print(f\"{i + 1}. {score}\")\n",
    "\n",
    "# Liste des scores\n",
    "scores = []\n",
    "\n",
    "# Boucle principale du jeu\n",
    "while True:\n",
    "    afficher_meilleurs_scores(scores)\n",
    "    score = jouer_partie()\n",
    "    scores.append(score)\n",
    "    print(f\"Votre score: {score}\")\n",
    "    continuer = input(\"Voulez-vous jouer une autre partie? (oui/non) \")\n",
    "    if continuer.lower() != \"oui\":\n",
    "        break"
   ]
  },
  {
   "cell_type": "code",
   "execution_count": null,
   "id": "9844a26a",
   "metadata": {},
   "outputs": [],
   "source": []
  }
 ],
 "metadata": {
  "kernelspec": {
   "display_name": "Python 3 (ipykernel)",
   "language": "python",
   "name": "python3"
  },
  "language_info": {
   "codemirror_mode": {
    "name": "ipython",
    "version": 3
   },
   "file_extension": ".py",
   "mimetype": "text/x-python",
   "name": "python",
   "nbconvert_exporter": "python",
   "pygments_lexer": "ipython3",
   "version": "3.11.5"
  }
 },
 "nbformat": 4,
 "nbformat_minor": 5
}
